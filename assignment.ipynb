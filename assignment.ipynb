{
 "cells": [
  {
   "cell_type": "code",
   "execution_count": 39,
   "metadata": {},
   "outputs": [],
   "source": [
    "import re\n",
    "import numpy as np\n",
    "import pandas as pd\n",
    "import json\n",
    "import matplotlib.pyplot as plt"
   ]
  },
  {
   "cell_type": "code",
   "execution_count": 40,
   "metadata": {},
   "outputs": [],
   "source": [
    "from sklearn.model_selection import train_test_split\n",
    "from sklearn.feature_extraction.text import TfidfVectorizer"
   ]
  },
  {
   "cell_type": "markdown",
   "metadata": {},
   "source": [
    "# Data preparation and exploration"
   ]
  },
  {
   "cell_type": "code",
   "execution_count": 41,
   "metadata": {},
   "outputs": [
    {
     "data": {
      "text/html": [
       "<div>\n",
       "<style scoped>\n",
       "    .dataframe tbody tr th:only-of-type {\n",
       "        vertical-align: middle;\n",
       "    }\n",
       "\n",
       "    .dataframe tbody tr th {\n",
       "        vertical-align: top;\n",
       "    }\n",
       "\n",
       "    .dataframe thead th {\n",
       "        text-align: right;\n",
       "    }\n",
       "</style>\n",
       "<table border=\"1\" class=\"dataframe\">\n",
       "  <thead>\n",
       "    <tr style=\"text-align: right;\">\n",
       "      <th></th>\n",
       "      <th>text</th>\n",
       "      <th>label</th>\n",
       "    </tr>\n",
       "  </thead>\n",
       "  <tbody>\n",
       "    <tr>\n",
       "      <th>0</th>\n",
       "      <td>i didnt feel humiliated</td>\n",
       "      <td>0</td>\n",
       "    </tr>\n",
       "    <tr>\n",
       "      <th>1</th>\n",
       "      <td>i can go from feeling so hopeless to so damned...</td>\n",
       "      <td>0</td>\n",
       "    </tr>\n",
       "    <tr>\n",
       "      <th>2</th>\n",
       "      <td>im grabbing a minute to post i feel greedy wrong</td>\n",
       "      <td>3</td>\n",
       "    </tr>\n",
       "    <tr>\n",
       "      <th>3</th>\n",
       "      <td>i am ever feeling   nostalgic about the firepl...</td>\n",
       "      <td>2</td>\n",
       "    </tr>\n",
       "    <tr>\n",
       "      <th>4</th>\n",
       "      <td>i am feeling grouchy</td>\n",
       "      <td>3</td>\n",
       "    </tr>\n",
       "  </tbody>\n",
       "</table>\n",
       "</div>"
      ],
      "text/plain": [
       "                                                text  label\n",
       "0                            i didnt feel humiliated      0\n",
       "1  i can go from feeling so hopeless to so damned...      0\n",
       "2   im grabbing a minute to post i feel greedy wrong      3\n",
       "3  i am ever feeling   nostalgic about the firepl...      2\n",
       "4                               i am feeling grouchy      3"
      ]
     },
     "execution_count": 41,
     "metadata": {},
     "output_type": "execute_result"
    }
   ],
   "source": [
    "filename = \"emotion_dataset.txt\"\n",
    "\n",
    "# Read the file\n",
    "with open(filename, 'r') as file:\n",
    "    lines = file.readlines()  \n",
    "\n",
    "# Each line as a json dictionary\n",
    "dataset = [json.loads(line) for line in lines]\n",
    "\n",
    "df = pd.DataFrame(dataset)\n",
    "\n",
    "# Mostrar las primeras filas del DataFrame\n",
    "df.head()"
   ]
  },
  {
   "cell_type": "code",
   "execution_count": 42,
   "metadata": {},
   "outputs": [
    {
     "name": "stdout",
     "output_type": "stream",
     "text": [
      "\n",
      "Missing values per colummn:\n",
      "text     0\n",
      "label    0\n",
      "dtype: int64\n"
     ]
    }
   ],
   "source": [
    "# Check missing values\n",
    "print(\"\\nMissing values per colummn:\")\n",
    "print(df.isnull().sum())"
   ]
  },
  {
   "cell_type": "code",
   "execution_count": 43,
   "metadata": {},
   "outputs": [
    {
     "data": {
      "image/png": "[encoded data removed]",
      "text/plain": [
       "<Figure size 640x480 with 1 Axes>"
      ]
     },
     "metadata": {},
     "output_type": "display_data"
    }
   ],
   "source": [
    "# Data distribution\n",
    "class_distribution = df['label'].value_counts().sort_index()\n",
    "\n",
    "class_distribution.plot(kind='bar', color='skyblue')\n",
    "plt.title('Distribución de la variable de clase (Emociones)')\n",
    "plt.xlabel('Emoción')\n",
    "plt.ylabel('Número de ejemplos')\n",
    "plt.show()"
   ]
  },
  {
   "cell_type": "code",
   "execution_count": 44,
   "metadata": {},
   "outputs": [
    {
     "name": "stdout",
     "output_type": "stream",
     "text": [
      "\n",
      "Stadistics:\n",
      "count    5000.000000\n",
      "mean       97.761600\n",
      "std        56.732182\n",
      "min        11.000000\n",
      "25%        53.000000\n",
      "50%        86.000000\n",
      "75%       130.000000\n",
      "max       299.000000\n",
      "Name: text_length, dtype: float64\n"
     ]
    },
    {
     "data": {
      "image/png": "[encoded data removed]",
      "text/plain": [
       "<Figure size 640x480 with 1 Axes>"
      ]
     },
     "metadata": {},
     "output_type": "display_data"
    }
   ],
   "source": [
    "# Text lengths\n",
    "df['text_length'] = df['text'].apply(len)\n",
    "\n",
    "print(\"\\nStadistics:\")\n",
    "print(df['text_length'].describe())\n",
    "\n",
    "plt.hist(df['text_length'], bins=30, color='lightgreen', edgecolor='black')\n",
    "plt.title('Distribución de la longitud de los textos')\n",
    "plt.xlabel('Longitud del texto')\n",
    "plt.ylabel('Frecuencia')\n",
    "plt.show()\n"
   ]
  },
  {
   "cell_type": "code",
   "execution_count": 45,
   "metadata": {},
   "outputs": [
    {
     "name": "stdout",
     "output_type": "stream",
     "text": [
      "Training data size: 3500\n",
      "Validation data size: 750\n",
      "Test data size: 750\n"
     ]
    }
   ],
   "source": [
    "X = df[\"text\"]\n",
    "y = df[\"label\"]\n",
    "\n",
    "#temporal variable to divide in test and validation\n",
    "X_train, X_temp, y_train, y_temp = train_test_split(X, y, test_size=0.3, random_state=123)\n",
    "\n",
    "#test and validation\n",
    "X_test, X_val, y_test, y_val = train_test_split(X_temp, y_temp, test_size=0.5, random_state=123)\n",
    "\n",
    "# Sizings\n",
    "print(f\"Training data size: {len(X_train)}\")\n",
    "print(f\"Validation data size: {len(X_val)}\")\n",
    "print(f\"Test data size: {len(X_test)}\")\n"
   ]
  },
  {
   "cell_type": "code",
   "execution_count": 67,
   "metadata": {},
   "outputs": [
    {
     "name": "stdout",
     "output_type": "stream",
     "text": [
      "Training data TF-IDF: (3500, 5000)\n",
      "Validation data TF-IDF: (750, 5000)\n",
      "Test data TF-IDF: (750, 5000)\n"
     ]
    }
   ],
   "source": [
    "# Vectorizer TF-IDF. Text format\n",
    "vectorizer = TfidfVectorizer(max_features=5000, stop_words='english')\n",
    "\n",
    "X_train_tfidf = vectorizer.fit_transform(X_train)\n",
    "X_val_tfidf = vectorizer.transform(X_val)\n",
    "X_test_tfidf = vectorizer.transform(X_test)\n",
    "\n",
    "print(f\"Training data TF-IDF: {X_train_tfidf.shape}\")\n",
    "print(f\"Validation data TF-IDF: {X_val_tfidf.shape}\")\n",
    "print(f\"Test data TF-IDF: {X_test_tfidf.shape}\")"
   ]
  },
  {
   "cell_type": "code",
   "execution_count": 65,
   "metadata": {},
   "outputs": [
    {
     "name": "stdout",
     "output_type": "stream",
     "text": [
      "Tipo de y_train: <class 'numpy.int32'>\n"
     ]
    }
   ],
   "source": [
    "# Labels format\n",
    "print(f\"Tipo de y_train: {type(y_train.iloc[0])}\")\n",
    "\n",
    "y_train = y_train.astype(int)\n",
    "y_val = y_val.astype(int)\n",
    "y_test = y_test.astype(int)\n"
   ]
  },
  {
   "cell_type": "markdown",
   "metadata": {},
   "source": [
    "# Basic machine learning"
   ]
  },
  {
   "cell_type": "code",
   "execution_count": 48,
   "metadata": {},
   "outputs": [],
   "source": [
    "from sklearn.neighbors import KNeighborsClassifier\n",
    "from sklearn.tree import DecisionTreeClassifier\n",
    "from sklearn.ensemble import RandomForestClassifier\n",
    "from sklearn.svm import SVC\n",
    "\n",
    "from sklearn.ensemble import BaggingClassifier\n",
    "from sklearn.ensemble import GradientBoostingClassifier\n",
    "\n",
    "from sklearn.model_selection import GridSearchCV\n",
    "\n",
    "from sklearn.metrics import accuracy_score, classification_report, confusion_matrix"
   ]
  },
  {
   "cell_type": "code",
   "execution_count": 49,
   "metadata": {},
   "outputs": [
    {
     "name": "stdout",
     "output_type": "stream",
     "text": [
      "Majority classifier Accuracy:\n",
      "0.3373333333333333\n",
      "Classification Report:\n",
      "              precision    recall  f1-score   support\n",
      "\n",
      "           0       0.00      0.00      0.00       219\n",
      "           1       0.34      1.00      0.50       253\n",
      "           2       0.00      0.00      0.00        50\n",
      "           3       0.00      0.00      0.00       107\n",
      "           4       0.00      0.00      0.00        97\n",
      "           5       0.00      0.00      0.00        24\n",
      "\n",
      "    accuracy                           0.34       750\n",
      "   macro avg       0.06      0.17      0.08       750\n",
      "weighted avg       0.11      0.34      0.17       750\n",
      "\n",
      "Confusion Matrix:\n",
      "[[  0 219   0   0   0   0]\n",
      " [  0 253   0   0   0   0]\n",
      " [  0  50   0   0   0   0]\n",
      " [  0 107   0   0   0   0]\n",
      " [  0  97   0   0   0   0]\n",
      " [  0  24   0   0   0   0]]\n"
     ]
    },
    {
     "name": "stderr",
     "output_type": "stream",
     "text": [
      "c:\\Users\\milan\\miniconda3\\envs\\intelsys\\lib\\site-packages\\sklearn\\metrics\\_classification.py:1531: UndefinedMetricWarning: Precision is ill-defined and being set to 0.0 in labels with no predicted samples. Use `zero_division` parameter to control this behavior.\n",
      "  _warn_prf(average, modifier, f\"{metric.capitalize()} is\", len(result))\n",
      "c:\\Users\\milan\\miniconda3\\envs\\intelsys\\lib\\site-packages\\sklearn\\metrics\\_classification.py:1531: UndefinedMetricWarning: Precision is ill-defined and being set to 0.0 in labels with no predicted samples. Use `zero_division` parameter to control this behavior.\n",
      "  _warn_prf(average, modifier, f\"{metric.capitalize()} is\", len(result))\n",
      "c:\\Users\\milan\\miniconda3\\envs\\intelsys\\lib\\site-packages\\sklearn\\metrics\\_classification.py:1531: UndefinedMetricWarning: Precision is ill-defined and being set to 0.0 in labels with no predicted samples. Use `zero_division` parameter to control this behavior.\n",
      "  _warn_prf(average, modifier, f\"{metric.capitalize()} is\", len(result))\n"
     ]
    }
   ],
   "source": [
    "# Majority classifier\n",
    "predicted_labels = [y_train.value_counts().idxmax()]*len(y_test)\n",
    "print(\"Majority classifier Accuracy:\")\n",
    "ac_mc =accuracy_score(y_test, predicted_labels)\n",
    "print(ac_mc)\n",
    "print('Classification Report:')\n",
    "cr_mc = classification_report(y_test, predicted_labels)\n",
    "print(cr_mc)\n",
    "print('Confusion Matrix:')\n",
    "cm_mc = confusion_matrix(y_test, predicted_labels)\n",
    "print(cm_mc)"
   ]
  },
  {
   "cell_type": "code",
   "execution_count": 50,
   "metadata": {},
   "outputs": [
    {
     "name": "stdout",
     "output_type": "stream",
     "text": [
      "KNN Accuracy:\n",
      "0.6866666666666666\n",
      "Classification Report:\n",
      "              precision    recall  f1-score   support\n",
      "\n",
      "           0       0.73      0.77      0.75       219\n",
      "           1       0.63      0.90      0.74       253\n",
      "           2       0.67      0.40      0.50        50\n",
      "           3       0.78      0.50      0.61       107\n",
      "           4       0.85      0.40      0.55        97\n",
      "           5       0.50      0.21      0.29        24\n",
      "\n",
      "    accuracy                           0.69       750\n",
      "   macro avg       0.69      0.53      0.57       750\n",
      "weighted avg       0.71      0.69      0.67       750\n",
      "\n",
      "Confusion Matrix:\n",
      "[[169  40   1   5   3   1]\n",
      " [ 19 228   4   1   1   0]\n",
      " [  6  23  20   1   0   0]\n",
      " [ 18  34   1  54   0   0]\n",
      " [ 19  24   4   7  39   4]\n",
      " [  2  13   0   1   3   5]]\n"
     ]
    }
   ],
   "source": [
    "# KNN\n",
    "knn = KNeighborsClassifier(n_neighbors=5)\n",
    "knn.fit(X_train_tfidf, y_train)\n",
    "predicted_knn = knn.predict(X_test_tfidf)\n",
    "print(\"KNN Accuracy:\")\n",
    "ac_knn = accuracy_score(y_test, predicted_knn)\n",
    "print(ac_knn)\n",
    "print('Classification Report:')\n",
    "cr_knn = classification_report(y_test, predicted_knn)\n",
    "print(cr_knn)\n",
    "print('Confusion Matrix:')\n",
    "cm_knn = confusion_matrix(y_test, predicted_knn)\n",
    "print(confusion_matrix(y_test, predicted_knn))\n"
   ]
  },
  {
   "cell_type": "code",
   "execution_count": 51,
   "metadata": {},
   "outputs": [
    {
     "name": "stdout",
     "output_type": "stream",
     "text": [
      "SVM Accuracy:\n",
      "0.792\n",
      "Classification Report:\n",
      "              precision    recall  f1-score   support\n",
      "\n",
      "           0       0.81      0.91      0.86       219\n",
      "           1       0.75      0.94      0.83       253\n",
      "           2       0.75      0.54      0.63        50\n",
      "           3       0.94      0.67      0.78       107\n",
      "           4       0.83      0.55      0.66        97\n",
      "           5       0.62      0.21      0.31        24\n",
      "\n",
      "    accuracy                           0.79       750\n",
      "   macro avg       0.78      0.64      0.68       750\n",
      "weighted avg       0.80      0.79      0.78       750\n",
      "\n",
      "Confusion Matrix:\n",
      "[[200  11   1   2   5   0]\n",
      " [  9 237   5   0   2   0]\n",
      " [  6  17  27   0   0   0]\n",
      " [ 15  18   2  72   0   0]\n",
      " [ 16  21   1   3  53   3]\n",
      " [  2  13   0   0   4   5]]\n"
     ]
    }
   ],
   "source": [
    "# SVM\n",
    "svm = SVC(C=100)\n",
    "svm.fit(X_train_tfidf, y_train)\n",
    "predicted_svm = svm.predict(X_test_tfidf)\n",
    "print(\"SVM Accuracy:\")\n",
    "ac_svm = accuracy_score(y_test, predicted_svm)\n",
    "print(ac_svm)\n",
    "print('Classification Report:')\n",
    "cr_svm = classification_report(y_test, predicted_svm)\n",
    "print(cr_svm)\n",
    "print('Confusion Matrix:')\n",
    "cm_svm = confusion_matrix(y_test, predicted_svm)\n",
    "print(cm_svm)\n"
   ]
  },
  {
   "cell_type": "code",
   "execution_count": 52,
   "metadata": {},
   "outputs": [
    {
     "name": "stdout",
     "output_type": "stream",
     "text": [
      "Decision Tree Accuracy:\n",
      "0.36933333333333335\n",
      "Classification Report:\n",
      "              precision    recall  f1-score   support\n",
      "\n",
      "           0       0.00      0.00      0.00       219\n",
      "           1       0.35      1.00      0.52       253\n",
      "           2       0.00      0.00      0.00        50\n",
      "           3       0.86      0.06      0.11       107\n",
      "           4       0.86      0.12      0.22        97\n",
      "           5       1.00      0.29      0.45        24\n",
      "\n",
      "    accuracy                           0.37       750\n",
      "   macro avg       0.51      0.24      0.22       750\n",
      "weighted avg       0.38      0.37      0.23       750\n",
      "\n",
      "Confusion Matrix:\n",
      "[[  0 217   0   1   1   0]\n",
      " [  0 252   0   0   1   0]\n",
      " [  0  50   0   0   0   0]\n",
      " [  0 101   0   6   0   0]\n",
      " [  0  85   0   0  12   0]\n",
      " [  0  17   0   0   0   7]]\n"
     ]
    },
    {
     "name": "stderr",
     "output_type": "stream",
     "text": [
      "c:\\Users\\milan\\miniconda3\\envs\\intelsys\\lib\\site-packages\\sklearn\\metrics\\_classification.py:1531: UndefinedMetricWarning: Precision is ill-defined and being set to 0.0 in labels with no predicted samples. Use `zero_division` parameter to control this behavior.\n",
      "  _warn_prf(average, modifier, f\"{metric.capitalize()} is\", len(result))\n",
      "c:\\Users\\milan\\miniconda3\\envs\\intelsys\\lib\\site-packages\\sklearn\\metrics\\_classification.py:1531: UndefinedMetricWarning: Precision is ill-defined and being set to 0.0 in labels with no predicted samples. Use `zero_division` parameter to control this behavior.\n",
      "  _warn_prf(average, modifier, f\"{metric.capitalize()} is\", len(result))\n",
      "c:\\Users\\milan\\miniconda3\\envs\\intelsys\\lib\\site-packages\\sklearn\\metrics\\_classification.py:1531: UndefinedMetricWarning: Precision is ill-defined and being set to 0.0 in labels with no predicted samples. Use `zero_division` parameter to control this behavior.\n",
      "  _warn_prf(average, modifier, f\"{metric.capitalize()} is\", len(result))\n"
     ]
    }
   ],
   "source": [
    "# Decision Trees\n",
    "dt = DecisionTreeClassifier(max_depth=10, min_samples_split=25)\n",
    "dt.fit(X_train_tfidf, y_train)\n",
    "predicted_dt = dt.predict(X_test_tfidf)\n",
    "print(\"Decision Tree Accuracy:\")\n",
    "ac_dt = accuracy_score(y_test, predicted_dt)\n",
    "print(ac_dt)\n",
    "print('Classification Report:')\n",
    "cr_dt = classification_report(y_test, predicted_dt)\n",
    "print(cr_dt)\n",
    "print('Confusion Matrix:')\n",
    "cm_dt = confusion_matrix(y_test, predicted_dt)\n",
    "print(cm_dt)"
   ]
  },
  {
   "cell_type": "code",
   "execution_count": 76,
   "metadata": {},
   "outputs": [
    {
     "name": "stdout",
     "output_type": "stream",
     "text": [
      "Random Forest Accuracy:\n",
      "0.784\n",
      "Classification Report:\n",
      "              precision    recall  f1-score   support\n",
      "\n",
      "           0       0.84      0.80      0.82       219\n",
      "           1       0.74      0.88      0.81       253\n",
      "           2       0.72      0.62      0.67        50\n",
      "           3       0.83      0.69      0.76       107\n",
      "           4       0.79      0.71      0.75        97\n",
      "           5       0.75      0.62      0.68        24\n",
      "\n",
      "    accuracy                           0.78       750\n",
      "   macro avg       0.78      0.72      0.75       750\n",
      "weighted avg       0.79      0.78      0.78       750\n",
      "\n",
      "Confusion Matrix:\n",
      "[[176  27   0   7   9   0]\n",
      " [ 11 223  10   4   4   1]\n",
      " [  3  15  31   1   0   0]\n",
      " [ 12  20   0  74   1   0]\n",
      " [  8  11   2   3  69   4]\n",
      " [  0   5   0   0   4  15]]\n"
     ]
    }
   ],
   "source": [
    "# Random Forest\n",
    "rf = RandomForestClassifier(n_estimators=20)\n",
    "rf.fit(X_train_tfidf, y_train)\n",
    "predicted_rf = rf.predict(X_test_tfidf)\n",
    "print(\"Random Forest Accuracy:\")\n",
    "ac_rf = accuracy_score(y_test, predicted_rf)\n",
    "print(ac_rf)\n",
    "print('Classification Report:')\n",
    "cr_rf = classification_report(y_test, predicted_rf)\n",
    "print(cr_rf)\n",
    "print('Confusion Matrix:')\n",
    "cm_rf = confusion_matrix(y_test, predicted_rf)\n",
    "print(cm_rf)"
   ]
  },
  {
   "cell_type": "code",
   "execution_count": 54,
   "metadata": {},
   "outputs": [
    {
     "name": "stdout",
     "output_type": "stream",
     "text": [
      "Bagging Accuracy:\n",
      "0.84\n",
      "Classification Report:\n",
      "              precision    recall  f1-score   support\n",
      "\n",
      "           0       0.88      0.89      0.89       219\n",
      "           1       0.86      0.87      0.87       253\n",
      "           2       0.69      0.76      0.72        50\n",
      "           3       0.83      0.80      0.82       107\n",
      "           4       0.80      0.77      0.79        97\n",
      "           5       0.74      0.58      0.65        24\n",
      "\n",
      "    accuracy                           0.84       750\n",
      "   macro avg       0.80      0.78      0.79       750\n",
      "weighted avg       0.84      0.84      0.84       750\n",
      "\n",
      "Confusion Matrix:\n",
      "[[196   8   0   7   7   1]\n",
      " [  9 221  13   5   5   0]\n",
      " [  3   8  38   1   0   0]\n",
      " [  7   8   3  86   2   1]\n",
      " [  8   7   1   3  75   3]\n",
      " [  0   4   0   1   5  14]]\n"
     ]
    }
   ],
   "source": [
    "# Bagging\n",
    "\n",
    "bc = BaggingClassifier()\n",
    "bc.fit(X_train_tfidf, y_train)\n",
    "predicted_bc = bc.predict(X_test_tfidf)\n",
    "print(\"Bagging Accuracy:\")\n",
    "ac_bc = accuracy_score(y_test, predicted_bc)\n",
    "print(ac_bc)\n",
    "print('Classification Report:')\n",
    "cr_bc = classification_report(y_test, predicted_bc)\n",
    "print(cr_bc)\n",
    "print('Confusion Matrix:')\n",
    "cm_bc = confusion_matrix(y_test, predicted_bc)\n",
    "print(cm_bc)\n"
   ]
  },
  {
   "cell_type": "code",
   "execution_count": 55,
   "metadata": {},
   "outputs": [
    {
     "name": "stdout",
     "output_type": "stream",
     "text": [
      "Gradiant Boosting Accuracy:\n",
      "0.7933333333333333\n",
      "Classification Report:\n",
      "              precision    recall  f1-score   support\n",
      "\n",
      "           0       0.94      0.76      0.84       219\n",
      "           1       0.70      0.88      0.78       253\n",
      "           2       0.66      0.82      0.73        50\n",
      "           3       0.87      0.71      0.78       107\n",
      "           4       0.87      0.73      0.79        97\n",
      "           5       0.75      0.75      0.75        24\n",
      "\n",
      "    accuracy                           0.79       750\n",
      "   macro avg       0.80      0.78      0.78       750\n",
      "weighted avg       0.82      0.79      0.80       750\n",
      "\n",
      "Confusion Matrix:\n",
      "[[166  43   0   5   4   1]\n",
      " [  4 223  16   4   4   2]\n",
      " [  0   9  41   0   0   0]\n",
      " [  5  24   2  76   0   0]\n",
      " [  1  17   3   2  71   3]\n",
      " [  0   3   0   0   3  18]]\n"
     ]
    }
   ],
   "source": [
    "# Gradiant Boosting\n",
    "\n",
    "gb = GradientBoostingClassifier()\n",
    "gb.fit(X_train_tfidf, y_train)\n",
    "predicted_gb = gb.predict(X_test_tfidf)\n",
    "print(\"Gradiant Boosting Accuracy:\")\n",
    "ac_gb = accuracy_score(y_test, predicted_gb)\n",
    "print(ac_gb)\n",
    "print('Classification Report:')\n",
    "cr_gb = classification_report(y_test, predicted_gb)\n",
    "print(cr_gb)\n",
    "print('Confusion Matrix:')\n",
    "cm_gb = confusion_matrix(y_test, predicted_gb)\n",
    "print(cm_gb)"
   ]
  },
  {
   "cell_type": "markdown",
   "metadata": {},
   "source": [
    "## Cross validation and Hyperparameter Tuning\n",
    "We will implement cross validation and Hyperparameter tuning for selected base models which already show promissing results (hight accuracy) so:  \n",
    "KNN,  \n",
    "Random Forest,  \n",
    "Bagging"
   ]
  },
  {
   "cell_type": "code",
   "execution_count": 56,
   "metadata": {},
   "outputs": [],
   "source": [
    "from sklearn.model_selection import StratifiedKFold"
   ]
  },
  {
   "cell_type": "code",
   "execution_count": 57,
   "metadata": {},
   "outputs": [
    {
     "name": "stdout",
     "output_type": "stream",
     "text": [
      "n_neighbours_1: 0.544\n",
      "n_neighbours_2: 0.504\n",
      "n_neighbours_3: 0.5293333333333333\n",
      "n_neighbours_4: 0.5213333333333333\n",
      "n_neighbours_5: 0.5146666666666667\n",
      "n_neighbours_6: 0.5\n",
      "n_neighbours_7: 0.5066666666666667\n",
      "n_neighbours_8: 0.5066666666666667\n",
      "n_neighbours_9: 0.484\n",
      "n_neighbours_10: 0.4746666666666666\n",
      "Overall scores: [0.544, 0.504, 0.5293333333333333, 0.5213333333333333, 0.5146666666666667, 0.5, 0.5066666666666667, 0.5066666666666667, 0.484, 0.4746666666666666]\n",
      "Best K for KNN: 1\n"
     ]
    }
   ],
   "source": [
    "# Cross-validation implementation and K Hyperparameter tuning for KNN\n",
    "\n",
    "# Create a copy of training data\n",
    "X_CV = X_val_tfidf.copy()\n",
    "y_CV = y_val.copy()\n",
    "\n",
    "# Define the number of folds\n",
    "folds = 3\n",
    "\n",
    "# Initialize variables for storing evaluation results and overall scores\n",
    "eval_core = []\n",
    "overall_scores = []\n",
    "\n",
    "# We will check K in the range from 1 to 10\n",
    "for neigh in range(1, 11):\n",
    "\n",
    "    # Initialize variables to store fold-specific evaluation metrics\n",
    "    fold_eval = []\n",
    "\n",
    "    # Initialize k-fold cross-validation\n",
    "    skf = StratifiedKFold(n_splits=folds, shuffle=False)\n",
    "\n",
    "    for i, (train_index, test_index) in enumerate(skf.split(X_CV, y_CV)):\n",
    "        # Select data from train and test based on fold indices\n",
    "        X_CV_train, X_CV_test = X_CV[train_index], X_CV[test_index]\n",
    "        y_CV_train, y_CV_test = y_CV.iloc[train_index], y_CV.iloc[test_index]\n",
    "\n",
    "        # Train a KNN classifier with the given parameter k\n",
    "        knn = KNeighborsClassifier(n_neighbors=neigh)\n",
    "        knn.fit(X_CV_train, y_CV_train)\n",
    "\n",
    "        # Predict on the test set\n",
    "        y_CV_pred = knn.predict(X_CV_test)\n",
    "\n",
    "        # Compute the accuracy metric for this fold\n",
    "        accuracy = accuracy_score(y_CV_test, y_CV_pred)\n",
    "        fold_eval.append(accuracy)\n",
    "\n",
    "    # Calculate the mean performance across all folds for this k\n",
    "    mean_accuracy = np.mean(fold_eval)\n",
    "    print(f'n_neighbours_{neigh}:', mean_accuracy)\n",
    "\n",
    "    # Append the mean accuracy to the overall scores\n",
    "    overall_scores.append(mean_accuracy)\n",
    "\n",
    "# Diagnostic\n",
    "print('Overall scores:', overall_scores)\n",
    "\n",
    "# Find the best performing k based on the highest accuracy\n",
    "best_k = np.argmax(overall_scores) + 1  # Add 1 to convert to 1-based index\n",
    "print(\"Best K for KNN:\", best_k)"
   ]
  },
  {
   "cell_type": "code",
   "execution_count": 58,
   "metadata": {},
   "outputs": [
    {
     "name": "stdout",
     "output_type": "stream",
     "text": [
      "start search\n"
     ]
    },
    {
     "ename": "KeyboardInterrupt",
     "evalue": "",
     "output_type": "error",
     "traceback": [
      "\u001b[1;31m---------------------------------------------------------------------------\u001b[0m",
      "\u001b[1;31mKeyboardInterrupt\u001b[0m                         Traceback (most recent call last)",
      "Cell \u001b[1;32mIn[58], line 21\u001b[0m\n\u001b[0;32m     19\u001b[0m \u001b[38;5;66;03m# Fit the grid search to your training data\u001b[39;00m\n\u001b[0;32m     20\u001b[0m \u001b[38;5;28mprint\u001b[39m(\u001b[38;5;124m\"\u001b[39m\u001b[38;5;124mstart search\u001b[39m\u001b[38;5;124m\"\u001b[39m)\n\u001b[1;32m---> 21\u001b[0m \u001b[43mgrid_search\u001b[49m\u001b[38;5;241;43m.\u001b[39;49m\u001b[43mfit\u001b[49m\u001b[43m(\u001b[49m\u001b[43mX_val_tfidf\u001b[49m\u001b[43m,\u001b[49m\u001b[43m \u001b[49m\u001b[43my_val\u001b[49m\u001b[43m)\u001b[49m\n\u001b[0;32m     22\u001b[0m \u001b[38;5;28mprint\u001b[39m(\u001b[38;5;124m\"\u001b[39m\u001b[38;5;124mdone search\u001b[39m\u001b[38;5;124m\"\u001b[39m)\n\u001b[0;32m     24\u001b[0m \u001b[38;5;66;03m# Get the best hyperparameters\u001b[39;00m\n",
      "File \u001b[1;32mc:\\Users\\milan\\miniconda3\\envs\\intelsys\\lib\\site-packages\\sklearn\\base.py:1473\u001b[0m, in \u001b[0;36m_fit_context.<locals>.decorator.<locals>.wrapper\u001b[1;34m(estimator, *args, **kwargs)\u001b[0m\n\u001b[0;32m   1466\u001b[0m     estimator\u001b[38;5;241m.\u001b[39m_validate_params()\n\u001b[0;32m   1468\u001b[0m \u001b[38;5;28;01mwith\u001b[39;00m config_context(\n\u001b[0;32m   1469\u001b[0m     skip_parameter_validation\u001b[38;5;241m=\u001b[39m(\n\u001b[0;32m   1470\u001b[0m         prefer_skip_nested_validation \u001b[38;5;129;01mor\u001b[39;00m global_skip_validation\n\u001b[0;32m   1471\u001b[0m     )\n\u001b[0;32m   1472\u001b[0m ):\n\u001b[1;32m-> 1473\u001b[0m     \u001b[38;5;28;01mreturn\u001b[39;00m fit_method(estimator, \u001b[38;5;241m*\u001b[39margs, \u001b[38;5;241m*\u001b[39m\u001b[38;5;241m*\u001b[39mkwargs)\n",
      "File \u001b[1;32mc:\\Users\\milan\\miniconda3\\envs\\intelsys\\lib\\site-packages\\sklearn\\model_selection\\_search.py:1019\u001b[0m, in \u001b[0;36mBaseSearchCV.fit\u001b[1;34m(self, X, y, **params)\u001b[0m\n\u001b[0;32m   1013\u001b[0m     results \u001b[38;5;241m=\u001b[39m \u001b[38;5;28mself\u001b[39m\u001b[38;5;241m.\u001b[39m_format_results(\n\u001b[0;32m   1014\u001b[0m         all_candidate_params, n_splits, all_out, all_more_results\n\u001b[0;32m   1015\u001b[0m     )\n\u001b[0;32m   1017\u001b[0m     \u001b[38;5;28;01mreturn\u001b[39;00m results\n\u001b[1;32m-> 1019\u001b[0m \u001b[38;5;28;43mself\u001b[39;49m\u001b[38;5;241;43m.\u001b[39;49m\u001b[43m_run_search\u001b[49m\u001b[43m(\u001b[49m\u001b[43mevaluate_candidates\u001b[49m\u001b[43m)\u001b[49m\n\u001b[0;32m   1021\u001b[0m \u001b[38;5;66;03m# multimetric is determined here because in the case of a callable\u001b[39;00m\n\u001b[0;32m   1022\u001b[0m \u001b[38;5;66;03m# self.scoring the return type is only known after calling\u001b[39;00m\n\u001b[0;32m   1023\u001b[0m first_test_score \u001b[38;5;241m=\u001b[39m all_out[\u001b[38;5;241m0\u001b[39m][\u001b[38;5;124m\"\u001b[39m\u001b[38;5;124mtest_scores\u001b[39m\u001b[38;5;124m\"\u001b[39m]\n",
      "File \u001b[1;32mc:\\Users\\milan\\miniconda3\\envs\\intelsys\\lib\\site-packages\\sklearn\\model_selection\\_search.py:1573\u001b[0m, in \u001b[0;36mGridSearchCV._run_search\u001b[1;34m(self, evaluate_candidates)\u001b[0m\n\u001b[0;32m   1571\u001b[0m \u001b[38;5;28;01mdef\u001b[39;00m \u001b[38;5;21m_run_search\u001b[39m(\u001b[38;5;28mself\u001b[39m, evaluate_candidates):\n\u001b[0;32m   1572\u001b[0m \u001b[38;5;250m    \u001b[39m\u001b[38;5;124;03m\"\"\"Search all candidates in param_grid\"\"\"\u001b[39;00m\n\u001b[1;32m-> 1573\u001b[0m     \u001b[43mevaluate_candidates\u001b[49m\u001b[43m(\u001b[49m\u001b[43mParameterGrid\u001b[49m\u001b[43m(\u001b[49m\u001b[38;5;28;43mself\u001b[39;49m\u001b[38;5;241;43m.\u001b[39;49m\u001b[43mparam_grid\u001b[49m\u001b[43m)\u001b[49m\u001b[43m)\u001b[49m\n",
      "File \u001b[1;32mc:\\Users\\milan\\miniconda3\\envs\\intelsys\\lib\\site-packages\\sklearn\\model_selection\\_search.py:965\u001b[0m, in \u001b[0;36mBaseSearchCV.fit.<locals>.evaluate_candidates\u001b[1;34m(candidate_params, cv, more_results)\u001b[0m\n\u001b[0;32m    957\u001b[0m \u001b[38;5;28;01mif\u001b[39;00m \u001b[38;5;28mself\u001b[39m\u001b[38;5;241m.\u001b[39mverbose \u001b[38;5;241m>\u001b[39m \u001b[38;5;241m0\u001b[39m:\n\u001b[0;32m    958\u001b[0m     \u001b[38;5;28mprint\u001b[39m(\n\u001b[0;32m    959\u001b[0m         \u001b[38;5;124m\"\u001b[39m\u001b[38;5;124mFitting \u001b[39m\u001b[38;5;132;01m{0}\u001b[39;00m\u001b[38;5;124m folds for each of \u001b[39m\u001b[38;5;132;01m{1}\u001b[39;00m\u001b[38;5;124m candidates,\u001b[39m\u001b[38;5;124m\"\u001b[39m\n\u001b[0;32m    960\u001b[0m         \u001b[38;5;124m\"\u001b[39m\u001b[38;5;124m totalling \u001b[39m\u001b[38;5;132;01m{2}\u001b[39;00m\u001b[38;5;124m fits\u001b[39m\u001b[38;5;124m\"\u001b[39m\u001b[38;5;241m.\u001b[39mformat(\n\u001b[0;32m    961\u001b[0m             n_splits, n_candidates, n_candidates \u001b[38;5;241m*\u001b[39m n_splits\n\u001b[0;32m    962\u001b[0m         )\n\u001b[0;32m    963\u001b[0m     )\n\u001b[1;32m--> 965\u001b[0m out \u001b[38;5;241m=\u001b[39m \u001b[43mparallel\u001b[49m\u001b[43m(\u001b[49m\n\u001b[0;32m    966\u001b[0m \u001b[43m    \u001b[49m\u001b[43mdelayed\u001b[49m\u001b[43m(\u001b[49m\u001b[43m_fit_and_score\u001b[49m\u001b[43m)\u001b[49m\u001b[43m(\u001b[49m\n\u001b[0;32m    967\u001b[0m \u001b[43m        \u001b[49m\u001b[43mclone\u001b[49m\u001b[43m(\u001b[49m\u001b[43mbase_estimator\u001b[49m\u001b[43m)\u001b[49m\u001b[43m,\u001b[49m\n\u001b[0;32m    968\u001b[0m \u001b[43m        \u001b[49m\u001b[43mX\u001b[49m\u001b[43m,\u001b[49m\n\u001b[0;32m    969\u001b[0m \u001b[43m        \u001b[49m\u001b[43my\u001b[49m\u001b[43m,\u001b[49m\n\u001b[0;32m    970\u001b[0m \u001b[43m        \u001b[49m\u001b[43mtrain\u001b[49m\u001b[38;5;241;43m=\u001b[39;49m\u001b[43mtrain\u001b[49m\u001b[43m,\u001b[49m\n\u001b[0;32m    971\u001b[0m \u001b[43m        \u001b[49m\u001b[43mtest\u001b[49m\u001b[38;5;241;43m=\u001b[39;49m\u001b[43mtest\u001b[49m\u001b[43m,\u001b[49m\n\u001b[0;32m    972\u001b[0m \u001b[43m        \u001b[49m\u001b[43mparameters\u001b[49m\u001b[38;5;241;43m=\u001b[39;49m\u001b[43mparameters\u001b[49m\u001b[43m,\u001b[49m\n\u001b[0;32m    973\u001b[0m \u001b[43m        \u001b[49m\u001b[43msplit_progress\u001b[49m\u001b[38;5;241;43m=\u001b[39;49m\u001b[43m(\u001b[49m\u001b[43msplit_idx\u001b[49m\u001b[43m,\u001b[49m\u001b[43m \u001b[49m\u001b[43mn_splits\u001b[49m\u001b[43m)\u001b[49m\u001b[43m,\u001b[49m\n\u001b[0;32m    974\u001b[0m \u001b[43m        \u001b[49m\u001b[43mcandidate_progress\u001b[49m\u001b[38;5;241;43m=\u001b[39;49m\u001b[43m(\u001b[49m\u001b[43mcand_idx\u001b[49m\u001b[43m,\u001b[49m\u001b[43m \u001b[49m\u001b[43mn_candidates\u001b[49m\u001b[43m)\u001b[49m\u001b[43m,\u001b[49m\n\u001b[0;32m    975\u001b[0m \u001b[43m        \u001b[49m\u001b[38;5;241;43m*\u001b[39;49m\u001b[38;5;241;43m*\u001b[39;49m\u001b[43mfit_and_score_kwargs\u001b[49m\u001b[43m,\u001b[49m\n\u001b[0;32m    976\u001b[0m \u001b[43m    \u001b[49m\u001b[43m)\u001b[49m\n\u001b[0;32m    977\u001b[0m \u001b[43m    \u001b[49m\u001b[38;5;28;43;01mfor\u001b[39;49;00m\u001b[43m \u001b[49m\u001b[43m(\u001b[49m\u001b[43mcand_idx\u001b[49m\u001b[43m,\u001b[49m\u001b[43m \u001b[49m\u001b[43mparameters\u001b[49m\u001b[43m)\u001b[49m\u001b[43m,\u001b[49m\u001b[43m \u001b[49m\u001b[43m(\u001b[49m\u001b[43msplit_idx\u001b[49m\u001b[43m,\u001b[49m\u001b[43m \u001b[49m\u001b[43m(\u001b[49m\u001b[43mtrain\u001b[49m\u001b[43m,\u001b[49m\u001b[43m \u001b[49m\u001b[43mtest\u001b[49m\u001b[43m)\u001b[49m\u001b[43m)\u001b[49m\u001b[43m \u001b[49m\u001b[38;5;129;43;01min\u001b[39;49;00m\u001b[43m \u001b[49m\u001b[43mproduct\u001b[49m\u001b[43m(\u001b[49m\n\u001b[0;32m    978\u001b[0m \u001b[43m        \u001b[49m\u001b[38;5;28;43menumerate\u001b[39;49m\u001b[43m(\u001b[49m\u001b[43mcandidate_params\u001b[49m\u001b[43m)\u001b[49m\u001b[43m,\u001b[49m\n\u001b[0;32m    979\u001b[0m \u001b[43m        \u001b[49m\u001b[38;5;28;43menumerate\u001b[39;49m\u001b[43m(\u001b[49m\u001b[43mcv\u001b[49m\u001b[38;5;241;43m.\u001b[39;49m\u001b[43msplit\u001b[49m\u001b[43m(\u001b[49m\u001b[43mX\u001b[49m\u001b[43m,\u001b[49m\u001b[43m \u001b[49m\u001b[43my\u001b[49m\u001b[43m,\u001b[49m\u001b[43m \u001b[49m\u001b[38;5;241;43m*\u001b[39;49m\u001b[38;5;241;43m*\u001b[39;49m\u001b[43mrouted_params\u001b[49m\u001b[38;5;241;43m.\u001b[39;49m\u001b[43msplitter\u001b[49m\u001b[38;5;241;43m.\u001b[39;49m\u001b[43msplit\u001b[49m\u001b[43m)\u001b[49m\u001b[43m)\u001b[49m\u001b[43m,\u001b[49m\n\u001b[0;32m    980\u001b[0m \u001b[43m    \u001b[49m\u001b[43m)\u001b[49m\n\u001b[0;32m    981\u001b[0m \u001b[43m\u001b[49m\u001b[43m)\u001b[49m\n\u001b[0;32m    983\u001b[0m \u001b[38;5;28;01mif\u001b[39;00m \u001b[38;5;28mlen\u001b[39m(out) \u001b[38;5;241m<\u001b[39m \u001b[38;5;241m1\u001b[39m:\n\u001b[0;32m    984\u001b[0m     \u001b[38;5;28;01mraise\u001b[39;00m \u001b[38;5;167;01mValueError\u001b[39;00m(\n\u001b[0;32m    985\u001b[0m         \u001b[38;5;124m\"\u001b[39m\u001b[38;5;124mNo fits were performed. \u001b[39m\u001b[38;5;124m\"\u001b[39m\n\u001b[0;32m    986\u001b[0m         \u001b[38;5;124m\"\u001b[39m\u001b[38;5;124mWas the CV iterator empty? \u001b[39m\u001b[38;5;124m\"\u001b[39m\n\u001b[0;32m    987\u001b[0m         \u001b[38;5;124m\"\u001b[39m\u001b[38;5;124mWere there no candidates?\u001b[39m\u001b[38;5;124m\"\u001b[39m\n\u001b[0;32m    988\u001b[0m     )\n",
      "File \u001b[1;32mc:\\Users\\milan\\miniconda3\\envs\\intelsys\\lib\\site-packages\\sklearn\\utils\\parallel.py:74\u001b[0m, in \u001b[0;36mParallel.__call__\u001b[1;34m(self, iterable)\u001b[0m\n\u001b[0;32m     69\u001b[0m config \u001b[38;5;241m=\u001b[39m get_config()\n\u001b[0;32m     70\u001b[0m iterable_with_config \u001b[38;5;241m=\u001b[39m (\n\u001b[0;32m     71\u001b[0m     (_with_config(delayed_func, config), args, kwargs)\n\u001b[0;32m     72\u001b[0m     \u001b[38;5;28;01mfor\u001b[39;00m delayed_func, args, kwargs \u001b[38;5;129;01min\u001b[39;00m iterable\n\u001b[0;32m     73\u001b[0m )\n\u001b[1;32m---> 74\u001b[0m \u001b[38;5;28;01mreturn\u001b[39;00m \u001b[38;5;28;43msuper\u001b[39;49m\u001b[43m(\u001b[49m\u001b[43m)\u001b[49m\u001b[38;5;241;43m.\u001b[39;49m\u001b[38;5;21;43m__call__\u001b[39;49m\u001b[43m(\u001b[49m\u001b[43miterable_with_config\u001b[49m\u001b[43m)\u001b[49m\n",
      "File \u001b[1;32mc:\\Users\\milan\\miniconda3\\envs\\intelsys\\lib\\site-packages\\joblib\\parallel.py:2007\u001b[0m, in \u001b[0;36mParallel.__call__\u001b[1;34m(self, iterable)\u001b[0m\n\u001b[0;32m   2001\u001b[0m \u001b[38;5;66;03m# The first item from the output is blank, but it makes the interpreter\u001b[39;00m\n\u001b[0;32m   2002\u001b[0m \u001b[38;5;66;03m# progress until it enters the Try/Except block of the generator and\u001b[39;00m\n\u001b[0;32m   2003\u001b[0m \u001b[38;5;66;03m# reaches the first `yield` statement. This starts the asynchronous\u001b[39;00m\n\u001b[0;32m   2004\u001b[0m \u001b[38;5;66;03m# dispatch of the tasks to the workers.\u001b[39;00m\n\u001b[0;32m   2005\u001b[0m \u001b[38;5;28mnext\u001b[39m(output)\n\u001b[1;32m-> 2007\u001b[0m \u001b[38;5;28;01mreturn\u001b[39;00m output \u001b[38;5;28;01mif\u001b[39;00m \u001b[38;5;28mself\u001b[39m\u001b[38;5;241m.\u001b[39mreturn_generator \u001b[38;5;28;01melse\u001b[39;00m \u001b[38;5;28;43mlist\u001b[39;49m\u001b[43m(\u001b[49m\u001b[43moutput\u001b[49m\u001b[43m)\u001b[49m\n",
      "File \u001b[1;32mc:\\Users\\milan\\miniconda3\\envs\\intelsys\\lib\\site-packages\\joblib\\parallel.py:1650\u001b[0m, in \u001b[0;36mParallel._get_outputs\u001b[1;34m(self, iterator, pre_dispatch)\u001b[0m\n\u001b[0;32m   1647\u001b[0m     \u001b[38;5;28;01myield\u001b[39;00m\n\u001b[0;32m   1649\u001b[0m     \u001b[38;5;28;01mwith\u001b[39;00m \u001b[38;5;28mself\u001b[39m\u001b[38;5;241m.\u001b[39m_backend\u001b[38;5;241m.\u001b[39mretrieval_context():\n\u001b[1;32m-> 1650\u001b[0m         \u001b[38;5;28;01myield from\u001b[39;00m \u001b[38;5;28mself\u001b[39m\u001b[38;5;241m.\u001b[39m_retrieve()\n\u001b[0;32m   1652\u001b[0m \u001b[38;5;28;01mexcept\u001b[39;00m \u001b[38;5;167;01mGeneratorExit\u001b[39;00m:\n\u001b[0;32m   1653\u001b[0m     \u001b[38;5;66;03m# The generator has been garbage collected before being fully\u001b[39;00m\n\u001b[0;32m   1654\u001b[0m     \u001b[38;5;66;03m# consumed. This aborts the remaining tasks if possible and warn\u001b[39;00m\n\u001b[0;32m   1655\u001b[0m     \u001b[38;5;66;03m# the user if necessary.\u001b[39;00m\n\u001b[0;32m   1656\u001b[0m     \u001b[38;5;28mself\u001b[39m\u001b[38;5;241m.\u001b[39m_exception \u001b[38;5;241m=\u001b[39m \u001b[38;5;28;01mTrue\u001b[39;00m\n",
      "File \u001b[1;32mc:\\Users\\milan\\miniconda3\\envs\\intelsys\\lib\\site-packages\\joblib\\parallel.py:1762\u001b[0m, in \u001b[0;36mParallel._retrieve\u001b[1;34m(self)\u001b[0m\n\u001b[0;32m   1757\u001b[0m \u001b[38;5;66;03m# If the next job is not ready for retrieval yet, we just wait for\u001b[39;00m\n\u001b[0;32m   1758\u001b[0m \u001b[38;5;66;03m# async callbacks to progress.\u001b[39;00m\n\u001b[0;32m   1759\u001b[0m \u001b[38;5;28;01mif\u001b[39;00m ((\u001b[38;5;28mlen\u001b[39m(\u001b[38;5;28mself\u001b[39m\u001b[38;5;241m.\u001b[39m_jobs) \u001b[38;5;241m==\u001b[39m \u001b[38;5;241m0\u001b[39m) \u001b[38;5;129;01mor\u001b[39;00m\n\u001b[0;32m   1760\u001b[0m     (\u001b[38;5;28mself\u001b[39m\u001b[38;5;241m.\u001b[39m_jobs[\u001b[38;5;241m0\u001b[39m]\u001b[38;5;241m.\u001b[39mget_status(\n\u001b[0;32m   1761\u001b[0m         timeout\u001b[38;5;241m=\u001b[39m\u001b[38;5;28mself\u001b[39m\u001b[38;5;241m.\u001b[39mtimeout) \u001b[38;5;241m==\u001b[39m TASK_PENDING)):\n\u001b[1;32m-> 1762\u001b[0m     \u001b[43mtime\u001b[49m\u001b[38;5;241;43m.\u001b[39;49m\u001b[43msleep\u001b[49m\u001b[43m(\u001b[49m\u001b[38;5;241;43m0.01\u001b[39;49m\u001b[43m)\u001b[49m\n\u001b[0;32m   1763\u001b[0m     \u001b[38;5;28;01mcontinue\u001b[39;00m\n\u001b[0;32m   1765\u001b[0m \u001b[38;5;66;03m# We need to be careful: the job list can be filling up as\u001b[39;00m\n\u001b[0;32m   1766\u001b[0m \u001b[38;5;66;03m# we empty it and Python list are not thread-safe by\u001b[39;00m\n\u001b[0;32m   1767\u001b[0m \u001b[38;5;66;03m# default hence the use of the lock\u001b[39;00m\n",
      "\u001b[1;31mKeyboardInterrupt\u001b[0m: "
     ]
    }
   ],
   "source": [
    "# Random Forest Hyperparameter tuning using Grid Search with cross validation throught gridsearch Object\n",
    "\n",
    "# Create a Random Forest classifier\n",
    "rf = RandomForestClassifier()\n",
    "\n",
    "# Define the hyperparameters and their possible values\n",
    "param_grid = {\n",
    "    'n_estimators': [10, 50, 100, 150],\n",
    "    'criterion': ['gini', 'entropy'],\n",
    "    'max_depth': [None, 20, 50],  # Adjust the range as needed\n",
    "    'min_samples_split': [10, 30],\n",
    "    'min_samples_leaf': [1, 10],    \n",
    "    'max_features': ['sqrt', 'log2', None]\n",
    "}\n",
    "\n",
    "# Create a grid search object\n",
    "grid_search = GridSearchCV(rf, param_grid, cv=5, scoring='accuracy', n_jobs=-1)\n",
    "\n",
    "# Fit the grid search to your training data\n",
    "print(\"start search\")\n",
    "grid_search.fit(X_val_tfidf, y_val)\n",
    "print(\"done search\")\n",
    "\n",
    "# Get the best hyperparameters\n",
    "best_params = grid_search.best_params_\n",
    "\n",
    "# Create a Random Forest classifier with the best hyperparameters\n",
    "best_rf = RandomForestClassifier(**best_params)\n",
    "best_rf.fit(X_train_tfidf, y_train)\n",
    "print(\"done fit best\")\n",
    "\n",
    "# Make predictions on your test data\n",
    "predicted_rf = best_rf.predict(X_test_tfidf)\n",
    "\n",
    "# Calculate the accuracy of the tuned Random Forest\n",
    "accuracy_rf = accuracy_score(y_test, predicted_rf)\n",
    "print(\"Tuned Decision Tree Accuracy:\", accuracy_rf)\n",
    "print(\"Best Hyperparameters:\", best_params)"
   ]
  },
  {
   "cell_type": "code",
   "execution_count": 70,
   "metadata": {},
   "outputs": [
    {
     "name": "stdout",
     "output_type": "stream",
     "text": [
      "Best Random Forest Accuracy: 0.5413333333333333\n"
     ]
    }
   ],
   "source": [
    "# Random Search for Random Forest with cross validation\n",
    "from sklearn.model_selection import RandomizedSearchCV\n",
    "\n",
    "param_dist = {\n",
    "    'n_estimators': [10, 50, 100],\n",
    "    'max_features': ['sqrt', 'log2', None],\n",
    "    'max_depth': [None, 20, 50]\n",
    "}\n",
    "\n",
    "# random_search_rf = RandomizedSearchCV(RandomForestClassifier(), param_dist, n_iter=10, cv=3)\n",
    "random_search_rf = GridSearchCV(RandomForestClassifier(), param_dist, cv=5, scoring='accuracy', n_jobs=-1)\n",
    "random_search_rf.fit(X_val_tfidf, y_val)\n",
    "best_rf = random_search_rf.best_estimator_\n",
    "predicted_best_rf = best_rf.predict(X_test_tfidf)\n",
    "accuracy_best_rf = accuracy_score(y_test, predicted_best_rf)\n",
    "print(\"Best Random Forest Accuracy:\", accuracy_best_rf)"
   ]
  },
  {
   "cell_type": "code",
   "execution_count": null,
   "metadata": {},
   "outputs": [
    {
     "name": "stdout",
     "output_type": "stream",
     "text": [
      "Best Bagging Accuracy: 0.3373333333333333\n",
      "Best Hyperparameters: {'bootstrap': True, 'bootstrap_features': False, 'max_features': 2, 'max_samples': 2, 'n_estimators': 30, 'warm_start': True}\n"
     ]
    }
   ],
   "source": [
    "# Hyperparameter tuning for Bagging using Grid Search with cross validation\n",
    "param_grid = {\n",
    "              'n_estimators': [10, 20, 30],\n",
    "              'max_samples': [1, 2, 3],\n",
    "              'max_features': [1, 2, 3],\n",
    "              'bootstrap': [True, False],\n",
    "              'bootstrap_features': [True, False],\n",
    "              'warm_start': [True, False]\n",
    "}\n",
    "\n",
    "bc = BaggingClassifier()\n",
    "\n",
    "grid_search = GridSearchCV(bc, param_grid, cv=3)\n",
    "grid_search.fit(X_val_tfidf, y_val)\n",
    "best_bc = grid_search.best_estimator_\n",
    "predicted_best_bc = best_bc.predict(X_test_tfidf)\n",
    "accuracy_best_bc = accuracy_score(y_test, predicted_best_bc)\n",
    "print(\"Best Bagging Accuracy:\", accuracy_best_bc)\n",
    "print(\"Best Hyperparameters:\", grid_search.best_params_)"
   ]
  },
  {
   "cell_type": "markdown",
   "metadata": {},
   "source": [
    "# Report"
   ]
  },
  {
   "cell_type": "code",
   "execution_count": 63,
   "metadata": {},
   "outputs": [
    {
     "data": {
      "image/png": "[encoded data removed]",
      "text/plain": [
       "<Figure size 640x480 with 1 Axes>"
      ]
     },
     "metadata": {},
     "output_type": "display_data"
    }
   ],
   "source": [
    "# Create a plot for the results\n",
    "results = [ac_svm, ac_rf, ac_knn, ac_dt, ac_mc, ac_bc, ac_gb]\n",
    "classifiers = ['Support vector machines', 'Random forest', 'K nearest neighbors', 'Decision trees', 'Majority Classifier', 'Bagging', 'Gradiant Boosting']\n",
    "\n",
    "# Sort results and classifiers in ascending order of accuracy\n",
    "sorted_results, sorted_classifiers = zip(*sorted(zip(results, classifiers)))\n",
    "\n",
    "# Create a bar plot\n",
    "plt.barh(sorted_classifiers, sorted_results, color='skyblue')\n",
    "plt.xlabel('Accuracy')\n",
    "plt.title('Classifier Accuracy Comparison (Low to High)')\n",
    "plt.xlim(0, 1.0)  # Set the x-axis limits from 0 to 1 for accuracy values\n",
    "\n",
    "# Annotate the bars with accuracy values\n",
    "for i, result in enumerate(sorted_results):\n",
    "    plt.text(result + 0.01, i, f'{result:.2f}', va='center', fontsize=12)\n",
    "\n",
    "plt.tight_layout()\n",
    "plt.show()"
   ]
  },
  {
   "cell_type": "code",
   "execution_count": null,
   "metadata": {},
   "outputs": [],
   "source": [
    "results = []"
   ]
  }
 ],
 "metadata": {
  "kernelspec": {
   "display_name": "intelsys",
   "language": "python",
   "name": "python3"
  },
  "language_info": {
   "codemirror_mode": {
    "name": "ipython",
    "version": 3
   },
   "file_extension": ".py",
   "mimetype": "text/x-python",
   "name": "python",
   "nbconvert_exporter": "python",
   "pygments_lexer": "ipython3",
   "version": "3.9.20"
  }
 },
 "nbformat": 4,
 "nbformat_minor": 2
}
