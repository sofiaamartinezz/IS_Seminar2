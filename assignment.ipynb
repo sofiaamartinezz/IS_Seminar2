{
 "cells": [
  {
   "cell_type": "code",
   "execution_count": 112,
   "metadata": {},
   "outputs": [],
   "source": [
    "import re\n",
    "import numpy as np\n",
    "import pandas as pd\n",
    "import json\n",
    "import matplotlib.pyplot as plt"
   ]
  },
  {
   "cell_type": "code",
   "execution_count": 113,
   "metadata": {},
   "outputs": [],
   "source": [
    "from sklearn.model_selection import train_test_split\n",
    "from sklearn.feature_extraction.text import TfidfVectorizer"
   ]
  },
  {
   "cell_type": "markdown",
   "metadata": {},
   "source": [
    "# Data preparation and exploration"
   ]
  },
  {
   "cell_type": "code",
   "execution_count": 114,
   "metadata": {},
   "outputs": [
    {
     "data": {
      "text/html": [
       "<div>\n",
       "<style scoped>\n",
       "    .dataframe tbody tr th:only-of-type {\n",
       "        vertical-align: middle;\n",
       "    }\n",
       "\n",
       "    .dataframe tbody tr th {\n",
       "        vertical-align: top;\n",
       "    }\n",
       "\n",
       "    .dataframe thead th {\n",
       "        text-align: right;\n",
       "    }\n",
       "</style>\n",
       "<table border=\"1\" class=\"dataframe\">\n",
       "  <thead>\n",
       "    <tr style=\"text-align: right;\">\n",
       "      <th></th>\n",
       "      <th>text</th>\n",
       "      <th>label</th>\n",
       "    </tr>\n",
       "  </thead>\n",
       "  <tbody>\n",
       "    <tr>\n",
       "      <th>0</th>\n",
       "      <td>i didnt feel humiliated</td>\n",
       "      <td>0</td>\n",
       "    </tr>\n",
       "    <tr>\n",
       "      <th>1</th>\n",
       "      <td>i can go from feeling so hopeless to so damned...</td>\n",
       "      <td>0</td>\n",
       "    </tr>\n",
       "    <tr>\n",
       "      <th>2</th>\n",
       "      <td>im grabbing a minute to post i feel greedy wrong</td>\n",
       "      <td>3</td>\n",
       "    </tr>\n",
       "    <tr>\n",
       "      <th>3</th>\n",
       "      <td>i am ever feeling   nostalgic about the firepl...</td>\n",
       "      <td>2</td>\n",
       "    </tr>\n",
       "    <tr>\n",
       "      <th>4</th>\n",
       "      <td>i am feeling grouchy</td>\n",
       "      <td>3</td>\n",
       "    </tr>\n",
       "  </tbody>\n",
       "</table>\n",
       "</div>"
      ],
      "text/plain": [
       "                                                text  label\n",
       "0                            i didnt feel humiliated      0\n",
       "1  i can go from feeling so hopeless to so damned...      0\n",
       "2   im grabbing a minute to post i feel greedy wrong      3\n",
       "3  i am ever feeling   nostalgic about the firepl...      2\n",
       "4                               i am feeling grouchy      3"
      ]
     },
     "execution_count": 114,
     "metadata": {},
     "output_type": "execute_result"
    }
   ],
   "source": [
    "filename = \"emotion_dataset.txt\"\n",
    "\n",
    "# Read the file\n",
    "with open(filename, 'r') as file:\n",
    "    lines = file.readlines()  \n",
    "\n",
    "# Each line as a json dictionary\n",
    "dataset = [json.loads(line) for line in lines]\n",
    "\n",
    "df = pd.DataFrame(dataset)\n",
    "\n",
    "# Mostrar las primeras filas del DataFrame\n",
    "df.head()"
   ]
  },
  {
   "cell_type": "code",
   "execution_count": 115,
   "metadata": {},
   "outputs": [
    {
     "name": "stdout",
     "output_type": "stream",
     "text": [
      "\n",
      "Missing values per colummn:\n",
      "text     0\n",
      "label    0\n",
      "dtype: int64\n"
     ]
    }
   ],
   "source": [
    "# Check missing values\n",
    "print(\"\\nMissing values per colummn:\")\n",
    "print(df.isnull().sum())"
   ]
  },
  {
   "cell_type": "code",
   "execution_count": 116,
   "metadata": {},
   "outputs": [
    {
     "data": {
      "image/png": "[encoded data removed]",
      "text/plain": [
       "<Figure size 640x480 with 1 Axes>"
      ]
     },
     "metadata": {},
     "output_type": "display_data"
    }
   ],
   "source": [
    "# Data distribution\n",
    "class_distribution = df['label'].value_counts().sort_index()\n",
    "\n",
    "class_distribution.plot(kind='bar', color='skyblue')\n",
    "plt.title('Distribución de la variable de clase (Emociones)')\n",
    "plt.xlabel('Emoción')\n",
    "plt.ylabel('Número de ejemplos')\n",
    "plt.show()"
   ]
  },
  {
   "cell_type": "code",
   "execution_count": 117,
   "metadata": {},
   "outputs": [
    {
     "name": "stdout",
     "output_type": "stream",
     "text": [
      "\n",
      "Stadistics:\n",
      "count    5000.000000\n",
      "mean       97.761600\n",
      "std        56.732182\n",
      "min        11.000000\n",
      "25%        53.000000\n",
      "50%        86.000000\n",
      "75%       130.000000\n",
      "max       299.000000\n",
      "Name: text_length, dtype: float64\n"
     ]
    },
    {
     "data": {
      "image/png": "[encoded data removed]",
      "text/plain": [
       "<Figure size 640x480 with 1 Axes>"
      ]
     },
     "metadata": {},
     "output_type": "display_data"
    }
   ],
   "source": [
    "# Text lengths\n",
    "df['text_length'] = df['text'].apply(len)\n",
    "\n",
    "print(\"\\nStadistics:\")\n",
    "print(df['text_length'].describe())\n",
    "\n",
    "plt.hist(df['text_length'], bins=30, color='lightgreen', edgecolor='black')\n",
    "plt.title('Distribución de la longitud de los textos')\n",
    "plt.xlabel('Longitud del texto')\n",
    "plt.ylabel('Frecuencia')\n",
    "plt.show()\n"
   ]
  },
  {
   "cell_type": "code",
   "execution_count": 118,
   "metadata": {},
   "outputs": [
    {
     "name": "stdout",
     "output_type": "stream",
     "text": [
      "Training data size: 3500\n",
      "Validation data size: 750\n",
      "Test data size: 750\n"
     ]
    }
   ],
   "source": [
    "X = df[\"text\"]\n",
    "y = df[\"label\"]\n",
    "\n",
    "#temporal variable to divide in test and validation\n",
    "X_train, X_temp, y_train, y_temp = train_test_split(X, y, test_size=0.3, random_state=123)\n",
    "\n",
    "#test and validation\n",
    "X_test, X_val, y_test, y_val = train_test_split(X_temp, y_temp, test_size=0.5, random_state=123)\n",
    "\n",
    "# Sizings\n",
    "print(f\"Training data size: {len(X_train)}\")\n",
    "print(f\"Validation data size: {len(X_val)}\")\n",
    "print(f\"Test data size: {len(X_test)}\")\n"
   ]
  },
  {
   "cell_type": "code",
   "execution_count": 119,
   "metadata": {},
   "outputs": [
    {
     "name": "stdout",
     "output_type": "stream",
     "text": [
      "Training data TF-IDF: (3500, 5000)\n",
      "Validation data TF-IDF: (750, 5000)\n",
      "Test data TF-IDF: (750, 5000)\n"
     ]
    }
   ],
   "source": [
    "# Vectorizer TF-IDF. Text format\n",
    "vectorizer = TfidfVectorizer(max_features=5000, stop_words='english')\n",
    "\n",
    "X_train_tfidf = vectorizer.fit_transform(X_train)\n",
    "X_val_tfidf = vectorizer.transform(X_val)\n",
    "X_test_tfidf = vectorizer.transform(X_test)\n",
    "\n",
    "print(f\"Training data TF-IDF: {X_train_tfidf.shape}\")\n",
    "print(f\"Validation data TF-IDF: {X_val_tfidf.shape}\")\n",
    "print(f\"Test data TF-IDF: {X_test_tfidf.shape}\")"
   ]
  },
  {
   "cell_type": "code",
   "execution_count": 120,
   "metadata": {},
   "outputs": [
    {
     "name": "stdout",
     "output_type": "stream",
     "text": [
      "Tipo de y_train: <class 'numpy.int64'>\n"
     ]
    }
   ],
   "source": [
    "# Labels format\n",
    "print(f\"Tipo de y_train: {type(y_train.iloc[0])}\")\n",
    "\n",
    "y_train = y_train.astype(int)\n",
    "y_val = y_val.astype(int)\n",
    "y_test = y_test.astype(int)\n"
   ]
  },
  {
   "cell_type": "markdown",
   "metadata": {},
   "source": [
    "# Basic machine learning"
   ]
  },
  {
   "cell_type": "code",
   "execution_count": 121,
   "metadata": {},
   "outputs": [],
   "source": [
    "from sklearn.neighbors import KNeighborsClassifier\n",
    "from sklearn.tree import DecisionTreeClassifier\n",
    "from sklearn.ensemble import RandomForestClassifier\n",
    "from sklearn.svm import SVC\n",
    "\n",
    "from sklearn.ensemble import BaggingClassifier\n",
    "from sklearn.ensemble import GradientBoostingClassifier\n",
    "\n",
    "from sklearn.model_selection import GridSearchCV\n",
    "\n",
    "from sklearn.metrics import accuracy_score, classification_report, confusion_matrix"
   ]
  },
  {
   "cell_type": "code",
   "execution_count": 122,
   "metadata": {},
   "outputs": [
    {
     "name": "stdout",
     "output_type": "stream",
     "text": [
      "Majority classifier Accuracy:\n",
      "0.3373333333333333\n",
      "Classification Report:\n",
      "              precision    recall  f1-score   support\n",
      "\n",
      "           0       0.00      0.00      0.00       219\n",
      "           1       0.34      1.00      0.50       253\n",
      "           2       0.00      0.00      0.00        50\n",
      "           3       0.00      0.00      0.00       107\n",
      "           4       0.00      0.00      0.00        97\n",
      "           5       0.00      0.00      0.00        24\n",
      "\n",
      "    accuracy                           0.34       750\n",
      "   macro avg       0.06      0.17      0.08       750\n",
      "weighted avg       0.11      0.34      0.17       750\n",
      "\n",
      "Confusion Matrix:\n",
      "[[  0 219   0   0   0   0]\n",
      " [  0 253   0   0   0   0]\n",
      " [  0  50   0   0   0   0]\n",
      " [  0 107   0   0   0   0]\n",
      " [  0  97   0   0   0   0]\n",
      " [  0  24   0   0   0   0]]\n"
     ]
    },
    {
     "name": "stderr",
     "output_type": "stream",
     "text": [
      "c:\\Users\\milan\\miniconda3\\envs\\intelsys\\lib\\site-packages\\sklearn\\metrics\\_classification.py:1531: UndefinedMetricWarning: Precision is ill-defined and being set to 0.0 in labels with no predicted samples. Use `zero_division` parameter to control this behavior.\n",
      "  _warn_prf(average, modifier, f\"{metric.capitalize()} is\", len(result))\n",
      "c:\\Users\\milan\\miniconda3\\envs\\intelsys\\lib\\site-packages\\sklearn\\metrics\\_classification.py:1531: UndefinedMetricWarning: Precision is ill-defined and being set to 0.0 in labels with no predicted samples. Use `zero_division` parameter to control this behavior.\n",
      "  _warn_prf(average, modifier, f\"{metric.capitalize()} is\", len(result))\n",
      "c:\\Users\\milan\\miniconda3\\envs\\intelsys\\lib\\site-packages\\sklearn\\metrics\\_classification.py:1531: UndefinedMetricWarning: Precision is ill-defined and being set to 0.0 in labels with no predicted samples. Use `zero_division` parameter to control this behavior.\n",
      "  _warn_prf(average, modifier, f\"{metric.capitalize()} is\", len(result))\n"
     ]
    }
   ],
   "source": [
    "# Majority classifier\n",
    "predicted_labels = [y_train.value_counts().idxmax()]*len(y_test)\n",
    "print(\"Majority classifier Accuracy:\")\n",
    "print(accuracy_score(y_test, predicted_labels))\n",
    "print('Classification Report:')\n",
    "print(classification_report(y_test, predicted_labels))\n",
    "print('Confusion Matrix:')\n",
    "print(confusion_matrix(y_test, predicted_labels))"
   ]
  },
  {
   "cell_type": "code",
   "execution_count": 135,
   "metadata": {},
   "outputs": [
    {
     "name": "stdout",
     "output_type": "stream",
     "text": [
      "KNN Accuracy:\n",
      "0.6866666666666666\n",
      "Classification Report:\n",
      "              precision    recall  f1-score   support\n",
      "\n",
      "           0       0.73      0.77      0.75       219\n",
      "           1       0.63      0.90      0.74       253\n",
      "           2       0.67      0.40      0.50        50\n",
      "           3       0.78      0.50      0.61       107\n",
      "           4       0.85      0.40      0.55        97\n",
      "           5       0.50      0.21      0.29        24\n",
      "\n",
      "    accuracy                           0.69       750\n",
      "   macro avg       0.69      0.53      0.57       750\n",
      "weighted avg       0.71      0.69      0.67       750\n",
      "\n",
      "Confusion Matrix:\n",
      "[[169  40   1   5   3   1]\n",
      " [ 19 228   4   1   1   0]\n",
      " [  6  23  20   1   0   0]\n",
      " [ 18  34   1  54   0   0]\n",
      " [ 19  24   4   7  39   4]\n",
      " [  2  13   0   1   3   5]]\n"
     ]
    }
   ],
   "source": [
    "# KNN\n",
    "knn = KNeighborsClassifier(n_neighbors=5)\n",
    "knn.fit(X_train_tfidf, y_train)\n",
    "predicted_knn = knn.predict(X_test_tfidf)\n",
    "print(\"KNN Accuracy:\")\n",
    "print(accuracy_score(y_test, predicted_knn))\n",
    "print('Classification Report:')\n",
    "print(classification_report(y_test, predicted_knn))\n",
    "print('Confusion Matrix:')\n",
    "print(confusion_matrix(y_test, predicted_knn))\n"
   ]
  },
  {
   "cell_type": "code",
   "execution_count": 124,
   "metadata": {},
   "outputs": [
    {
     "name": "stdout",
     "output_type": "stream",
     "text": [
      "SVM Accuracy:\n",
      "0.792\n",
      "Classification Report:\n",
      "              precision    recall  f1-score   support\n",
      "\n",
      "           0       0.81      0.91      0.86       219\n",
      "           1       0.75      0.94      0.83       253\n",
      "           2       0.75      0.54      0.63        50\n",
      "           3       0.94      0.67      0.78       107\n",
      "           4       0.83      0.55      0.66        97\n",
      "           5       0.62      0.21      0.31        24\n",
      "\n",
      "    accuracy                           0.79       750\n",
      "   macro avg       0.78      0.64      0.68       750\n",
      "weighted avg       0.80      0.79      0.78       750\n",
      "\n",
      "Confusion Matrix:\n",
      "[[200  11   1   2   5   0]\n",
      " [  9 237   5   0   2   0]\n",
      " [  6  17  27   0   0   0]\n",
      " [ 15  18   2  72   0   0]\n",
      " [ 16  21   1   3  53   3]\n",
      " [  2  13   0   0   4   5]]\n"
     ]
    }
   ],
   "source": [
    "# SVM\n",
    "svm = SVC(C=100)\n",
    "svm.fit(X_train_tfidf, y_train)\n",
    "predicted_svm = svm.predict(X_test_tfidf)\n",
    "print(\"SVM Accuracy:\")\n",
    "print(accuracy_score(y_test, predicted_svm))\n",
    "print('Classification Report:')\n",
    "print(classification_report(y_test, predicted_svm))\n",
    "print('Confusion Matrix:')\n",
    "print(confusion_matrix(y_test, predicted_svm))\n"
   ]
  },
  {
   "cell_type": "code",
   "execution_count": 125,
   "metadata": {},
   "outputs": [
    {
     "name": "stdout",
     "output_type": "stream",
     "text": [
      "Decision Tree Accuracy:\n",
      "0.36933333333333335\n",
      "Classification Report:\n",
      "              precision    recall  f1-score   support\n",
      "\n",
      "           0       0.00      0.00      0.00       219\n",
      "           1       0.35      1.00      0.52       253\n",
      "           2       0.00      0.00      0.00        50\n",
      "           3       0.86      0.06      0.11       107\n",
      "           4       0.86      0.12      0.22        97\n",
      "           5       1.00      0.29      0.45        24\n",
      "\n",
      "    accuracy                           0.37       750\n",
      "   macro avg       0.51      0.24      0.22       750\n",
      "weighted avg       0.38      0.37      0.23       750\n",
      "\n",
      "Confusion Matrix:\n",
      "[[  0 217   0   1   1   0]\n",
      " [  0 252   0   0   1   0]\n",
      " [  0  50   0   0   0   0]\n",
      " [  0 101   0   6   0   0]\n",
      " [  0  85   0   0  12   0]\n",
      " [  0  17   0   0   0   7]]\n"
     ]
    },
    {
     "name": "stderr",
     "output_type": "stream",
     "text": [
      "c:\\Users\\milan\\miniconda3\\envs\\intelsys\\lib\\site-packages\\sklearn\\metrics\\_classification.py:1531: UndefinedMetricWarning: Precision is ill-defined and being set to 0.0 in labels with no predicted samples. Use `zero_division` parameter to control this behavior.\n",
      "  _warn_prf(average, modifier, f\"{metric.capitalize()} is\", len(result))\n",
      "c:\\Users\\milan\\miniconda3\\envs\\intelsys\\lib\\site-packages\\sklearn\\metrics\\_classification.py:1531: UndefinedMetricWarning: Precision is ill-defined and being set to 0.0 in labels with no predicted samples. Use `zero_division` parameter to control this behavior.\n",
      "  _warn_prf(average, modifier, f\"{metric.capitalize()} is\", len(result))\n",
      "c:\\Users\\milan\\miniconda3\\envs\\intelsys\\lib\\site-packages\\sklearn\\metrics\\_classification.py:1531: UndefinedMetricWarning: Precision is ill-defined and being set to 0.0 in labels with no predicted samples. Use `zero_division` parameter to control this behavior.\n",
      "  _warn_prf(average, modifier, f\"{metric.capitalize()} is\", len(result))\n"
     ]
    }
   ],
   "source": [
    "# Decision Trees\n",
    "dt = DecisionTreeClassifier(max_depth=10, min_samples_split=25)\n",
    "dt.fit(X_train_tfidf, y_train)\n",
    "predicted_dt = dt.predict(X_test_tfidf)\n",
    "print(\"Decision Tree Accuracy:\")\n",
    "print(accuracy_score(y_test, predicted_dt))\n",
    "print('Classification Report:')\n",
    "print(classification_report(y_test, predicted_dt))\n",
    "print('Confusion Matrix:')\n",
    "print(confusion_matrix(y_test, predicted_dt))"
   ]
  },
  {
   "cell_type": "code",
   "execution_count": 126,
   "metadata": {},
   "outputs": [
    {
     "name": "stdout",
     "output_type": "stream",
     "text": [
      "Random Forest Accuracy:\n",
      "0.8306666666666667\n",
      "Classification Report:\n",
      "              precision    recall  f1-score   support\n",
      "\n",
      "           0       0.87      0.86      0.86       219\n",
      "           1       0.81      0.90      0.85       253\n",
      "           2       0.76      0.70      0.73        50\n",
      "           3       0.85      0.77      0.80       107\n",
      "           4       0.82      0.77      0.80        97\n",
      "           5       0.83      0.62      0.71        24\n",
      "\n",
      "    accuracy                           0.83       750\n",
      "   macro avg       0.82      0.77      0.79       750\n",
      "weighted avg       0.83      0.83      0.83       750\n",
      "\n",
      "Confusion Matrix:\n",
      "[[188  16   0   8   6   1]\n",
      " [  8 228   8   4   5   0]\n",
      " [  3  11  35   1   0   0]\n",
      " [  8  13   2  82   1   1]\n",
      " [  9   9   1   2  75   1]\n",
      " [  0   5   0   0   4  15]]\n"
     ]
    }
   ],
   "source": [
    "# Random Forest\n",
    "rf = RandomForestClassifier(n_estimators=20)\n",
    "rf.fit(X_train_tfidf, y_train)\n",
    "predicted_rf = rf.predict(X_test_tfidf)\n",
    "print(\"Random Forest Accuracy:\")\n",
    "print(accuracy_score(y_test, predicted_rf))\n",
    "print('Classification Report:')\n",
    "print(classification_report(y_test, predicted_rf))\n",
    "print('Confusion Matrix:')\n",
    "print(confusion_matrix(y_test, predicted_rf))"
   ]
  },
  {
   "cell_type": "code",
   "execution_count": 127,
   "metadata": {},
   "outputs": [
    {
     "name": "stdout",
     "output_type": "stream",
     "text": [
      "Bagging Accuracy:\n",
      "0.8333333333333334\n",
      "Classification Report:\n",
      "              precision    recall  f1-score   support\n",
      "\n",
      "           0       0.87      0.89      0.88       219\n",
      "           1       0.86      0.87      0.86       253\n",
      "           2       0.66      0.74      0.70        50\n",
      "           3       0.83      0.79      0.81       107\n",
      "           4       0.81      0.75      0.78        97\n",
      "           5       0.68      0.71      0.69        24\n",
      "\n",
      "    accuracy                           0.83       750\n",
      "   macro avg       0.79      0.79      0.79       750\n",
      "weighted avg       0.83      0.83      0.83       750\n",
      "\n",
      "Confusion Matrix:\n",
      "[[194   9   1   7   7   1]\n",
      " [ 10 219  14   5   5   0]\n",
      " [  3   9  37   1   0   0]\n",
      " [  7  10   2  85   2   1]\n",
      " [  8   5   2   3  73   6]\n",
      " [  0   3   0   1   3  17]]\n"
     ]
    }
   ],
   "source": [
    "# Bagging\n",
    "\n",
    "bc = BaggingClassifier()\n",
    "bc.fit(X_train_tfidf, y_train)\n",
    "predicted_bc = bc.predict(X_test_tfidf)\n",
    "print(\"Bagging Accuracy:\")\n",
    "print(accuracy_score(y_test, predicted_bc))\n",
    "print('Classification Report:')\n",
    "print(classification_report(y_test, predicted_bc))\n",
    "print('Confusion Matrix:')\n",
    "print(confusion_matrix(y_test, predicted_bc))\n"
   ]
  },
  {
   "cell_type": "code",
   "execution_count": 128,
   "metadata": {},
   "outputs": [
    {
     "name": "stdout",
     "output_type": "stream",
     "text": [
      "Gradiant Boosting Accuracy:\n",
      "0.792\n",
      "Classification Report:\n",
      "              precision    recall  f1-score   support\n",
      "\n",
      "           0       0.94      0.75      0.83       219\n",
      "           1       0.69      0.89      0.78       253\n",
      "           2       0.67      0.80      0.73        50\n",
      "           3       0.89      0.73      0.80       107\n",
      "           4       0.87      0.73      0.79        97\n",
      "           5       0.73      0.67      0.70        24\n",
      "\n",
      "    accuracy                           0.79       750\n",
      "   macro avg       0.80      0.76      0.77       750\n",
      "weighted avg       0.82      0.79      0.79       750\n",
      "\n",
      "Confusion Matrix:\n",
      "[[164  45   0   5   4   1]\n",
      " [  4 225  15   3   4   2]\n",
      " [  0  10  40   0   0   0]\n",
      " [  5  22   2  78   0   0]\n",
      " [  1  17   3   2  71   3]\n",
      " [  0   5   0   0   3  16]]\n"
     ]
    }
   ],
   "source": [
    "# Gradiant Boosting\n",
    "\n",
    "gb = GradientBoostingClassifier()\n",
    "gb.fit(X_train_tfidf, y_train)\n",
    "predicted_gb = gb.predict(X_test_tfidf)\n",
    "print(\"Gradiant Boosting Accuracy:\")\n",
    "print(accuracy_score(y_test, predicted_gb))\n",
    "print('Classification Report:')\n",
    "print(classification_report(y_test, predicted_gb))\n",
    "print('Confusion Matrix:')\n",
    "print(confusion_matrix(y_test, predicted_gb))"
   ]
  },
  {
   "cell_type": "markdown",
   "metadata": {},
   "source": [
    "## Cross validation and Hyperparameter Tuning\n",
    "We will implement cross validation and Hyperparameter tuning for selected base models which already show promissing results (hight accuracy) so:  \n",
    "KNN,  \n",
    "Random Forest,  \n",
    "Bagging"
   ]
  },
  {
   "cell_type": "code",
   "execution_count": null,
   "metadata": {},
   "outputs": [],
   "source": [
    "from sklearn.model_selection import StratifiedKFold"
   ]
  },
  {
   "cell_type": "code",
   "execution_count": null,
   "metadata": {},
   "outputs": [
    {
     "name": "stdout",
     "output_type": "stream",
     "text": [
      "n_neighbours_1: 0.502043278004863\n",
      "n_neighbours_2: 0.548593565278825\n",
      "n_neighbours_3: 0.6354371674253326\n",
      "n_neighbours_4: 0.6582914560554373\n",
      "n_neighbours_5: 0.6694330901781065\n",
      "n_neighbours_6: 0.6834339906804378\n",
      "n_neighbours_7: 0.6931457466452859\n",
      "n_neighbours_8: 0.6854314596711647\n",
      "n_neighbours_9: 0.6928593790649376\n",
      "n_neighbours_10: 0.6925725215486093\n",
      "Overall scores: [0.502043278004863, 0.548593565278825, 0.6354371674253326, 0.6582914560554373, 0.6694330901781065, 0.6834339906804378, 0.6931457466452859, 0.6854314596711647, 0.6928593790649376, 0.6925725215486093]\n",
      "Best K for KNN: 7\n"
     ]
    }
   ],
   "source": [
    "# Cross-validation implementation and K Hyperparameter tuning for KNN\n",
    "\n",
    "# Create a copy of training data\n",
    "X_CV = X_train_tfidf.copy()\n",
    "y_CV = y_train.copy()\n",
    "\n",
    "# Define the number of folds\n",
    "folds = 3\n",
    "\n",
    "# Initialize variables for storing evaluation results and overall scores\n",
    "eval_core = []\n",
    "overall_scores = []\n",
    "\n",
    "# We will check K in the range from 1 to 10\n",
    "for neigh in range(1, 11):\n",
    "\n",
    "    # Initialize variables to store fold-specific evaluation metrics\n",
    "    fold_eval = []\n",
    "\n",
    "    # Initialize k-fold cross-validation\n",
    "    skf = StratifiedKFold(n_splits=folds, shuffle=False)\n",
    "\n",
    "    for i, (train_index, test_index) in enumerate(skf.split(X_CV, y_CV)):\n",
    "        # Select data from train and test based on fold indices\n",
    "        X_CV_train, X_CV_test = X_CV[train_index], X_CV[test_index]\n",
    "        y_CV_train, y_CV_test = y_CV.iloc[train_index], y_CV.iloc[test_index]\n",
    "\n",
    "        # Train a KNN classifier with the given parameter k\n",
    "        knn = KNeighborsClassifier(n_neighbors=neigh)\n",
    "        knn.fit(X_CV_train, y_CV_train)\n",
    "\n",
    "        # Predict on the test set\n",
    "        y_CV_pred = knn.predict(X_CV_test)\n",
    "\n",
    "        # Compute the accuracy metric for this fold\n",
    "        accuracy = accuracy_score(y_CV_test, y_CV_pred)\n",
    "        fold_eval.append(accuracy)\n",
    "\n",
    "    # Calculate the mean performance across all folds for this k\n",
    "    mean_accuracy = np.mean(fold_eval)\n",
    "    print(f'n_neighbours_{neigh}:', mean_accuracy)\n",
    "\n",
    "    # Append the mean accuracy to the overall scores\n",
    "    overall_scores.append(mean_accuracy)\n",
    "\n",
    "# Diagnostic\n",
    "print('Overall scores:', overall_scores)\n",
    "\n",
    "# Find the best performing k based on the highest accuracy\n",
    "best_k = np.argmax(overall_scores) + 1  # Add 1 to convert to 1-based index\n",
    "print(\"Best K for KNN:\", best_k)"
   ]
  },
  {
   "cell_type": "code",
   "execution_count": null,
   "metadata": {},
   "outputs": [],
   "source": [
    "# Random Forest Hyperparameter tuning using Grid Search with cross validation throught gridsearch Object\n",
    "\n",
    "# Create a Random Forest classifier\n",
    "rf = RandomForestClassifier()\n",
    "\n",
    "# Define the hyperparameters and their possible values\n",
    "param_grid = {\n",
    "    'n_estimators': [10, 50, 100, 150],\n",
    "    'criterion': ['gini', 'entropy'],\n",
    "    'max_depth': [None, 20, 50],  # Adjust the range as needed\n",
    "    'min_samples_split': [10, 30],\n",
    "    'min_samples_leaf': [1, 10],    \n",
    "    'max_features': ['sqrt', 'log2', None]\n",
    "}\n",
    "\n",
    "# Create a grid search object\n",
    "grid_search = GridSearchCV(rf, param_grid, cv=5, scoring='accuracy', n_jobs=-1)\n",
    "\n",
    "# Fit the grid search to your training data\n",
    "grid_search.fit(X_train_tfidf, y_train)\n",
    "\n",
    "# Get the best hyperparameters\n",
    "best_params = grid_search.best_params_\n",
    "\n",
    "# Create a Random Forest classifier with the best hyperparameters\n",
    "best_rf = RandomForestClassifier(**best_params)\n",
    "best_rf.fit(X_train, y_train)\n",
    "\n",
    "# Make predictions on your test data\n",
    "predicted_rf = best_rf.predict(X_test_tfidf)\n",
    "\n",
    "# Calculate the accuracy of the tuned Random Forest\n",
    "accuracy_rf = accuracy_score(y_test, predicted_rf)\n",
    "print(\"Tuned Decision Tree Accuracy:\", accuracy_rf)\n",
    "print(\"Best Hyperparameters:\", best_params)"
   ]
  },
  {
   "cell_type": "code",
   "execution_count": null,
   "metadata": {},
   "outputs": [
    {
     "name": "stdout",
     "output_type": "stream",
     "text": [
      "Best Bagging Accuracy: 0.292\n",
      "Best Hyperparameters: {'bootstrap': True, 'bootstrap_features': True, 'max_features': 1, 'max_samples': 1, 'n_estimators': 10, 'warm_start': True}\n"
     ]
    },
    {
     "name": "stderr",
     "output_type": "stream",
     "text": [
      "c:\\Users\\milan\\miniconda3\\envs\\intelsys\\lib\\site-packages\\numpy\\ma\\core.py:2820: RuntimeWarning: invalid value encountered in cast\n",
      "  _data = np.array(data, dtype=dtype, copy=copy,\n"
     ]
    }
   ],
   "source": [
    "# Hyperparameter tuning for Bagging using Grid Search with cross validation\n",
    "param_grid = {\n",
    "              'n_estimators': [10, 20, 30],\n",
    "              'max_samples': [1, 2, 3],\n",
    "              'max_features': [1, 2, 3],\n",
    "              'bootstrap': [True, False],\n",
    "              'bootstrap_features': [True, False],\n",
    "              'warm_start': [True, False]\n",
    "}\n",
    "\n",
    "bc = BaggingClassifier()\n",
    "\n",
    "grid_search = GridSearchCV(bc, param_grid, cv=3)\n",
    "grid_search.fit(X_train_tfidf, y_train)\n",
    "best_bc = grid_search.best_estimator_\n",
    "predicted_best_bc = best_bc.predict(X_test_tfidf)\n",
    "accuracy_best_bc = accuracy_score(y_test, predicted_best_bc)\n",
    "print(\"Best Bagging Accuracy:\", accuracy_best_bc)\n",
    "print(\"Best Hyperparameters:\", grid_search.best_params_)"
   ]
  }
 ],
 "metadata": {
  "kernelspec": {
   "display_name": "intelsys",
   "language": "python",
   "name": "python3"
  },
  "language_info": {
   "codemirror_mode": {
    "name": "ipython",
    "version": 3
   },
   "file_extension": ".py",
   "mimetype": "text/x-python",
   "name": "python",
   "nbconvert_exporter": "python",
   "pygments_lexer": "ipython3",
   "version": "3.9.20"
  }
 },
 "nbformat": 4,
 "nbformat_minor": 2
}
